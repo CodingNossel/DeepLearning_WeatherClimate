{
 "cells": [
  {
   "cell_type": "code",
   "execution_count": 8,
   "metadata": {},
   "outputs": [],
   "source": [
    "import torch\n",
    "import torch_geometric as pyg\n",
    "import h3\n",
    "\n",
    "import numpy as np\n",
    "from sklearn.neighbors import NearestNeighbors\n",
    "\n",
    "from MarsDataset import MarsDataset"
   ]
  },
  {
   "cell_type": "markdown",
   "metadata": {},
   "source": [
    "### Loading Data\n"
   ]
  },
  {
   "cell_type": "code",
   "execution_count": 9,
   "metadata": {},
   "outputs": [
    {
     "name": "stdout",
     "output_type": "stream",
     "text": [
      "(36,) \n",
      " (72,)\n"
     ]
    },
    {
     "ename": "ValueError",
     "evalue": "all input arrays must have the same shape",
     "output_type": "error",
     "traceback": [
      "\u001b[0;31m---------------------------------------------------------------------------\u001b[0m",
      "\u001b[0;31mValueError\u001b[0m                                Traceback (most recent call last)",
      "Cell \u001b[0;32mIn[9], line 6\u001b[0m\n\u001b[1;32m      3\u001b[0m elat, elon \u001b[38;5;241m=\u001b[39m msd\u001b[38;5;241m.\u001b[39mget_lat(), msd\u001b[38;5;241m.\u001b[39mget_lon()\n\u001b[1;32m      4\u001b[0m \u001b[38;5;28mprint\u001b[39m(elat\u001b[38;5;241m.\u001b[39mshape, \u001b[38;5;124m\"\u001b[39m\u001b[38;5;130;01m\\n\u001b[39;00m\u001b[38;5;124m\"\u001b[39m, elon\u001b[38;5;241m.\u001b[39mshape)\n\u001b[0;32m----> 6\u001b[0m ecoords \u001b[38;5;241m=\u001b[39m \u001b[43mnp\u001b[49m\u001b[38;5;241;43m.\u001b[39;49m\u001b[43mstack\u001b[49m\u001b[43m(\u001b[49m\u001b[43m[\u001b[49m\u001b[43melat\u001b[49m\u001b[43m,\u001b[49m\u001b[43m \u001b[49m\u001b[43melon\u001b[49m\u001b[43m]\u001b[49m\u001b[43m,\u001b[49m\u001b[43m \u001b[49m\u001b[43maxis\u001b[49m\u001b[38;5;241;43m=\u001b[39;49m\u001b[43m \u001b[49m\u001b[38;5;241;43m-\u001b[39;49m\u001b[38;5;241;43m1\u001b[39;49m\u001b[43m)\u001b[49m\u001b[38;5;241m.\u001b[39mreshape((\u001b[38;5;241m-\u001b[39m\u001b[38;5;241m1\u001b[39m, \u001b[38;5;241m2\u001b[39m))\n\u001b[1;32m      7\u001b[0m ecoords_rad \u001b[38;5;241m=\u001b[39m np\u001b[38;5;241m.\u001b[39mdeg2rad(ecoords)\n",
      "File \u001b[0;32m~/dl/lib/python3.10/site-packages/numpy/core/shape_base.py:449\u001b[0m, in \u001b[0;36mstack\u001b[0;34m(arrays, axis, out, dtype, casting)\u001b[0m\n\u001b[1;32m    447\u001b[0m shapes \u001b[38;5;241m=\u001b[39m {arr\u001b[38;5;241m.\u001b[39mshape \u001b[38;5;28;01mfor\u001b[39;00m arr \u001b[38;5;129;01min\u001b[39;00m arrays}\n\u001b[1;32m    448\u001b[0m \u001b[38;5;28;01mif\u001b[39;00m \u001b[38;5;28mlen\u001b[39m(shapes) \u001b[38;5;241m!=\u001b[39m \u001b[38;5;241m1\u001b[39m:\n\u001b[0;32m--> 449\u001b[0m     \u001b[38;5;28;01mraise\u001b[39;00m \u001b[38;5;167;01mValueError\u001b[39;00m(\u001b[38;5;124m'\u001b[39m\u001b[38;5;124mall input arrays must have the same shape\u001b[39m\u001b[38;5;124m'\u001b[39m)\n\u001b[1;32m    451\u001b[0m result_ndim \u001b[38;5;241m=\u001b[39m arrays[\u001b[38;5;241m0\u001b[39m]\u001b[38;5;241m.\u001b[39mndim \u001b[38;5;241m+\u001b[39m \u001b[38;5;241m1\u001b[39m\n\u001b[1;32m    452\u001b[0m axis \u001b[38;5;241m=\u001b[39m normalize_axis_index(axis, result_ndim)\n",
      "\u001b[0;31mValueError\u001b[0m: all input arrays must have the same shape"
     ]
    }
   ],
   "source": [
    "\n",
    "\n",
    "msd = MarsDataset('data/test.zarr')\n",
    "\n",
    "elat, elon = msd.get_lat(), msd.get_lon()\n",
    "print(elat.shape, \"\\n\", elon.shape)\n",
    "\n",
    "ecoords = np.stack([elat, elon], axis= -1).reshape((-1, 2))\n",
    "ecoords_rad = np.deg2rad(ecoords)\n",
    "\n"
   ]
  },
  {
   "cell_type": "code",
   "execution_count": null,
   "metadata": {},
   "outputs": [
    {
     "ename": "NameError",
     "evalue": "name 'ecoords' is not defined",
     "output_type": "error",
     "traceback": [
      "\u001b[0;31m---------------------------------------------------------------------------\u001b[0m",
      "\u001b[0;31mNameError\u001b[0m                                 Traceback (most recent call last)",
      "Cell \u001b[0;32mIn[3], line 3\u001b[0m\n\u001b[1;32m      1\u001b[0m H_RESO \u001b[38;5;241m=\u001b[39m \u001b[38;5;241m1\u001b[39m\n\u001b[0;32m----> 3\u001b[0m h3_grid \u001b[38;5;241m=\u001b[39m \u001b[38;5;28msorted\u001b[39m(\u001b[38;5;28mset\u001b[39m([h3\u001b[38;5;241m.\u001b[39mgeo_to_h3(lat, lon, H_RESO) \u001b[38;5;28;01mfor\u001b[39;00m lat, lon \u001b[38;5;129;01min\u001b[39;00m \u001b[43mecoords\u001b[49m]))\n\u001b[1;32m      5\u001b[0m hcoords \u001b[38;5;241m=\u001b[39m np\u001b[38;5;241m.\u001b[39marray([h3\u001b[38;5;241m.\u001b[39mh3_to_geo(val) \u001b[38;5;28;01mfor\u001b[39;00m val \u001b[38;5;129;01min\u001b[39;00m h3_grid])\n\u001b[1;32m      6\u001b[0m hcoords\u001b[38;5;241m.\u001b[39mshape\n",
      "\u001b[0;31mNameError\u001b[0m: name 'ecoords' is not defined"
     ]
    }
   ],
   "source": [
    "H_RESO = 1\n",
    "\n",
    "h3_grid = sorted(set([h3.geo_to_h3(lat, lon, H_RESO) for lat, lon in ecoords]))\n",
    "\n",
    "hcoords = np.array([h3.h3_to_geo(val) for val in h3_grid])\n",
    "hcoords.shape\n"
   ]
  },
  {
   "cell_type": "markdown",
   "metadata": {},
   "source": [
    "### H3 Graph"
   ]
  },
  {
   "cell_type": "code",
   "execution_count": null,
   "metadata": {},
   "outputs": [],
   "source": [
    "NUM_NEIGHBORS = 6\n",
    "\n",
    "hcoords_rad = np.deg2rad(hcoords)\n",
    "hneighbors = NearestNeighbors(n_neighbors=NUM_NEIGHBORS, metric='haversine', n_jobs=2)\n",
    "\n",
    "hneighbors.fit(hcoords_rad)\n",
    "hadjmat = hneighbors.kneighbors_graph(hcoords_rad, NUM_NEIGHBORS, mode='distance').tocoo()\n",
    "\n",
    "hadjmat"
   ]
  },
  {
   "cell_type": "markdown",
   "metadata": {},
   "source": [
    "# Preprocessing"
   ]
  },
  {
   "cell_type": "code",
   "execution_count": null,
   "metadata": {},
   "outputs": [],
   "source": [
    "from sklearn.preprocessing import normalize\n",
    "\n",
    "hadjmat_normed = normalize(hadjmat, norm='l1', axis=1)\n",
    "hadjmat_normed.data = 1.0 - hadjmat_normed.data\n",
    "\n",
    "hadjmat_normed"
   ]
  },
  {
   "cell_type": "code",
   "execution_count": null,
   "metadata": {},
   "outputs": [],
   "source": [
    "h_to_h_has_isolated = pyg.utils.contains_isolated_nodes(pyg.utils.from_scipy_sparse_matrix(hadjmat_normed)[0])\n",
    "\n",
    "assert not h_to_h_has_isolated, \"Error\""
   ]
  },
  {
   "cell_type": "code",
   "execution_count": null,
   "metadata": {},
   "outputs": [],
   "source": [
    "h2h_graph_key = ('h', 'to', 'h')\n",
    "\n",
    "h2h_graph_data = {\n",
    "    \"edge_index\": torch.from_numpy(np.stack([hadjmat.col, hadjmat.row], axis=0).astype(np.int64)),\n",
    "    \"edge_attr\": torch.from_numpy(np.expand_dims(hadjmat_normed.data, axis=-1).astype(np.float32)),\n",
    "    \"hcoords_rad\": torch.from_numpy(hcoords_rad.astype(np.float32)),\n",
    "    \"info\": \"h3_to_h3_graph\",\n",
    "}"
   ]
  },
  {
   "cell_type": "markdown",
   "metadata": {},
   "source": [
    "# Era to H3 bipartite Graph"
   ]
  },
  {
   "cell_type": "code",
   "execution_count": null,
   "metadata": {},
   "outputs": [],
   "source": [
    "NUM_MARTIAN_NEIGHBORS = 1\n",
    "MARTIAN_RADIUS = 3389.5\n",
    "H_CUTOFF = 800 # in km must be smaller I guess bc the Earth is bigger than Mars\n",
    "RADIUS_H_TO_MARTIAN = H_CUTOFF / MARTIAN_RADIUS"
   ]
  },
  {
   "cell_type": "code",
   "execution_count": null,
   "metadata": {},
   "outputs": [],
   "source": [
    "eneigh = NearestNeighbors(n_neighbors=NUM_MARTIAN_NEIGHBORS, metric='haversine', n_jobs=2)\n",
    "eneigh.fit(ecoords_rad)\n",
    "\n",
    "martian_to_h3_adjmat = eneigh.radius_neighbors_graph(hcoords_rad, RADIUS_H_TO_MARTIAN).tocoo()\n",
    "martian_to_h3_adjmat"
   ]
  },
  {
   "cell_type": "code",
   "execution_count": null,
   "metadata": {},
   "outputs": [],
   "source": [
    "#Norm\n",
    "\n",
    "martian_to_h3_adjmat_normed = normalize(martian_to_h3_adjmat, norm='l1', axis=1)\n",
    "martian_to_h3_adjmat_normed.data = 1.0 - martian_to_h3_adjmat_normed.data\n",
    "#martian_to_h3_adjmat_normed"
   ]
  },
  {
   "cell_type": "code",
   "execution_count": null,
   "metadata": {},
   "outputs": [],
   "source": [
    "martian_h_has_isolated = pyg.utils.contains_isolated_nodes(pyg.utils.from_scipy_sparse_matrix(martian_to_h3_adjmat_normed)[0])\n",
    "\n",
    "assert not martian_h_has_isolated, \"Error\""
   ]
  },
  {
   "cell_type": "code",
   "execution_count": null,
   "metadata": {},
   "outputs": [],
   "source": [
    "m2h_graph_key  = {\"martian\", \"to\", \"h\"}\n",
    "\n",
    "m2h_graph_data = {\n",
    "    \"edge_index\": torch.from_numpy(np.stack([martian_to_h3_adjmat.col, martian_to_h3_adjmat.row], axis=0).astype(np.int64)),\n",
    "    \"edge_attr\": torch.from_numpy(np.expand_dims(martian_to_h3_adjmat_normed.data, axis=-1).astype(np.float32)),\n",
    "    \"hcoords_rad\": torch.from_numpy(hcoords_rad.astype(np.float32)),\n",
    "    \"ecoords_rad\": torch.from_numpy(ecoords_rad.astype(np.float32)),\n",
    "    \"info\": \"martian_to_h3_graph\",\n",
    "}"
   ]
  },
  {
   "cell_type": "code",
   "execution_count": null,
   "metadata": {},
   "outputs": [],
   "source": [
    "from torch_geometric.data import HeteroData\n",
    "\n",
    "graphs = HeteroData(\n",
    "    {\n",
    "        m2h_graph_key: m2h_graph_data,\n",
    "        h2h_graph_key: h2h_graph_data,\n",
    "    }\n",
    ")"
   ]
  },
  {
   "cell_type": "code",
   "execution_count": null,
   "metadata": {},
   "outputs": [],
   "source": [
    "from plot_utils import plot_graph, plot_bipartite_graph\n",
    "\n",
    "plot_graph(\"H -> H Graph\",\n",
    "           graphs[(\"h\", \"to\", \"h\")],\n",
    "           \"hcoords_rad\"\n",
    ")\n",
    "\n",
    "plot_bipartite_graph(\"Martian -> H Graph\",\n",
    "                    \"blue\", \n",
    "                    graphs[(\"martian\", \"to\", \"h\")],\n",
    "                    (\"ecoords_rad\", \"hcoords_rad\"),\n",
    "                    graphs[(\"martian\", \"to\", \"h\")][\"ecoords_rad\"],\n",
    "                    graphs[(\"martian\", \"to\", \"h\")][\"hcoords_rad\"]\n",
    ")"
   ]
  },
  {
   "cell_type": "code",
   "execution_count": null,
   "metadata": {},
   "outputs": [],
   "source": [
    "print(\"test\")"
   ]
  }
 ],
 "metadata": {
  "kernelspec": {
   "display_name": "dl",
   "language": "python",
   "name": "python3"
  },
  "language_info": {
   "codemirror_mode": {
    "name": "ipython",
    "version": 3
   },
   "file_extension": ".py",
   "mimetype": "text/x-python",
   "name": "python",
   "nbconvert_exporter": "python",
   "pygments_lexer": "ipython3",
   "version": "3.10.12"
  }
 },
 "nbformat": 4,
 "nbformat_minor": 2
}
